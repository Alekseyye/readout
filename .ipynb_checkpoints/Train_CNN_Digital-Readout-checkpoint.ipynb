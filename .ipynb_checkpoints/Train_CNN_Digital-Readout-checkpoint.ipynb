{
 "cells": [
  {
   "cell_type": "markdown",
   "metadata": {},
   "source": [
    "# CNN Training\n",
    "\n",
    "Target of this code is to train a CNN network to classify images of a digital readout to the digits 0 to 9. Additionally a category \"NaN\" is introduced, to mark images that are not amibiguous.\n",
    "\n",
    "### Preparing the training\n",
    "* First all libraries are loaded\n",
    "    * It is assumed, that they are installed during the Python setup\n",
    "* matplotlib is set to print the output inline in the jupyter notebook"
   ]
  },
  {
   "cell_type": "code",
   "execution_count": 1,
   "metadata": {
    "scrolled": true
   },
   "outputs": [],
   "source": [
    "import tensorflow as tf\n",
    "import matplotlib.pyplot as plt\n",
    "import glob\n",
    "import numpy as np\n",
    "from sklearn.utils import shuffle\n",
    "from tensorflow.python import keras\n",
    "from tensorflow.python.keras import Sequential\n",
    "from tensorflow.python.keras.layers import Dense, InputLayer, Conv2D, MaxPool2D, Flatten, BatchNormalization\n",
    "from tensorflow.keras.preprocessing.image import ImageDataGenerator\n",
    "from sklearn.model_selection import train_test_split\n",
    "from tensorflow.keras.callbacks import History \n",
    "from tensorflow.python.keras.utils import to_categorical\n",
    "from PIL import Image \n",
    "\n",
    "loss_ges = np.array([])\n",
    "val_loss_ges = np.array([])\n",
    "\n",
    "%matplotlib inline\n",
    "np.set_printoptions(precision=4)\n",
    "np.set_printoptions(suppress=True)"
   ]
  },
  {
   "cell_type": "markdown",
   "metadata": {},
   "source": [
    "### Load training data\n",
    "* The data is expected in the \"Input_dir\"\n",
    "* Inside subdirectories are expected from -1, 0, 1, ... 9 in which the pictures are sorted according to their values (=category)\n",
    "* Picture size must be 20x32 with 3 color channels (RGB)\n",
    "* The filename can be arbitrary\n",
    "\n",
    "* The images are stored in the x_data[]\n",
    "* The expected category for each image in the corresponding y_data[]\n",
    "\n",
    "* The last step is a shuffle (from sklearn.utils) and split the data into training and validation data"
   ]
  },
  {
   "cell_type": "code",
   "execution_count": 2,
   "metadata": {},
   "outputs": [
    {
     "name": "stdout",
     "output_type": "stream",
     "text": [
      "(377, 32, 20, 3)\n",
      "(377, 11)\n"
     ]
    }
   ],
   "source": [
    "Input_dir='ziffer_sortiert_resize'\n",
    "\n",
    "files = glob.glob(Input_dir + '/*.*')\n",
    "x_data = []\n",
    "y_data = []\n",
    "\n",
    "subdir = [\"0\", \"1\", \"2\", \"3\", \"4\", \"5\", \"6\", \"7\", \"8\", \"9\", \"NaN\"]\n",
    "\n",
    "for aktsubdir in subdir:\n",
    "    files = glob.glob(Input_dir + '/' + aktsubdir + '/*.jpg')\n",
    "    if aktsubdir == \"NaN\":\n",
    "        category = 10                # NaN does not work --> convert to 10\n",
    "    else:\n",
    "        category = aktsubdir\n",
    "    for aktfile in files:\n",
    "        test_image = Image.open(aktfile)\n",
    "        test_image = np.array(test_image, dtype=\"float32\")\n",
    "        x_data.append(test_image)\n",
    "        y_data.append(np.array([category]))\n",
    "\n",
    "x_data = np.array(x_data)\n",
    "y_data = np.array(y_data)\n",
    "y_data = to_categorical(y_data, 11)\n",
    "print(x_data.shape)\n",
    "print(y_data.shape)\n",
    "\n",
    "x_data, y_data = shuffle(x_data, y_data)\n",
    "X_train, X_test, y_train, y_test = train_test_split(x_data, y_data, test_size=0.1)"
   ]
  },
  {
   "cell_type": "markdown",
   "metadata": {},
   "source": [
    "### Define the model\n",
    "\n",
    "The layout of the network ist a typcial CNN network with alternating **Conv2D** and **MaxPool2D** layers. Finished after **flattening** with additional **Dense** layer.\n",
    "\n",
    "#### Important\n",
    "* Shape of the input layer: (32, 20, 3)\n",
    "* Number of output layers: 11\n",
    "* As loss function \"categorical_crossentropy\" is choosen, as it is a categories task"
   ]
  },
  {
   "cell_type": "code",
   "execution_count": 3,
   "metadata": {
    "scrolled": true
   },
   "outputs": [
    {
     "name": "stdout",
     "output_type": "stream",
     "text": [
      "Model: \"sequential\"\n",
      "_________________________________________________________________\n",
      "Layer (type)                 Output Shape              Param #   \n",
      "=================================================================\n",
      "batch_normalization (BatchNo (None, 32, 20, 3)         12        \n",
      "_________________________________________________________________\n",
      "conv2d (Conv2D)              (None, 32, 20, 32)        896       \n",
      "_________________________________________________________________\n",
      "max_pooling2d (MaxPooling2D) (None, 16, 10, 32)        0         \n",
      "_________________________________________________________________\n",
      "conv2d_1 (Conv2D)            (None, 16, 10, 64)        18496     \n",
      "_________________________________________________________________\n",
      "max_pooling2d_1 (MaxPooling2 (None, 8, 5, 64)          0         \n",
      "_________________________________________________________________\n",
      "conv2d_2 (Conv2D)            (None, 8, 5, 64)          36928     \n",
      "_________________________________________________________________\n",
      "max_pooling2d_2 (MaxPooling2 (None, 4, 2, 64)          0         \n",
      "_________________________________________________________________\n",
      "flatten (Flatten)            (None, 512)               0         \n",
      "_________________________________________________________________\n",
      "dense (Dense)                (None, 512)               262656    \n",
      "_________________________________________________________________\n",
      "dense_1 (Dense)              (None, 11)                5643      \n",
      "=================================================================\n",
      "Total params: 324,631\n",
      "Trainable params: 324,625\n",
      "Non-trainable params: 6\n",
      "_________________________________________________________________\n"
     ]
    }
   ],
   "source": [
    "model = Sequential()\n",
    "model.add(BatchNormalization(input_shape=(32,20,3)))\n",
    "model.add(Conv2D(32, (3, 3), padding='same', activation=\"relu\"))\n",
    "model.add(MaxPool2D(pool_size=(2,2)))\n",
    "model.add(Conv2D(64, (3, 3), padding='same'))\n",
    "model.add(MaxPool2D(pool_size=(2,2)))\n",
    "model.add(Conv2D(64, (3, 3), padding='same'))\n",
    "model.add(MaxPool2D(pool_size=(2,2)))\n",
    "model.add(Flatten())\n",
    "model.add(Dense(512,activation=\"relu\"))\n",
    "model.add(Dense(11, activation = \"softmax\"))\n",
    "model.summary()\n",
    "\n",
    "model.compile(loss=keras.losses.categorical_crossentropy, optimizer=tf.keras.optimizers.Adadelta(learning_rate=1.0, rho=0.95), metrics = [\"accuracy\"])"
   ]
  },
  {
   "cell_type": "markdown",
   "metadata": {},
   "source": [
    "# Training\n",
    "The input pictures are randomly scattered for brightness, pixel shift variations and rotation angle. This is implemented with a ImageDataGenerator.\n"
   ]
  },
  {
   "cell_type": "code",
   "execution_count": 4,
   "metadata": {
    "scrolled": true
   },
   "outputs": [
    {
     "name": "stdout",
     "output_type": "stream",
     "text": [
      "Epoch 1/80\n",
      "95/95 [==============================] - 3s 35ms/step - loss: 1.9321 - accuracy: 0.3846 - val_loss: 2.2747 - val_accuracy: 0.5263\n",
      "Epoch 2/80\n",
      "95/95 [==============================] - 3s 32ms/step - loss: 1.1054 - accuracy: 0.6313 - val_loss: 1.1343 - val_accuracy: 0.6579\n",
      "Epoch 3/80\n",
      "95/95 [==============================] - 3s 30ms/step - loss: 0.7474 - accuracy: 0.7692 - val_loss: 0.5427 - val_accuracy: 0.8684\n",
      "Epoch 4/80\n",
      "95/95 [==============================] - 3s 30ms/step - loss: 0.6084 - accuracy: 0.8011 - val_loss: 0.5247 - val_accuracy: 0.7632\n",
      "Epoch 5/80\n",
      "95/95 [==============================] - 3s 30ms/step - loss: 0.4735 - accuracy: 0.8488 - val_loss: 0.3551 - val_accuracy: 0.8421\n",
      "Epoch 6/80\n",
      "95/95 [==============================] - 3s 32ms/step - loss: 0.3701 - accuracy: 0.9045 - val_loss: 0.3141 - val_accuracy: 0.9211\n",
      "Epoch 7/80\n",
      "95/95 [==============================] - 3s 29ms/step - loss: 0.2693 - accuracy: 0.9098 - val_loss: 0.2507 - val_accuracy: 0.9211\n",
      "Epoch 8/80\n",
      "95/95 [==============================] - 3s 32ms/step - loss: 0.2887 - accuracy: 0.9125 - val_loss: 0.1441 - val_accuracy: 0.9211\n",
      "Epoch 9/80\n",
      "95/95 [==============================] - 3s 32ms/step - loss: 0.2377 - accuracy: 0.9231 - val_loss: 0.1367 - val_accuracy: 0.9474\n",
      "Epoch 10/80\n",
      "95/95 [==============================] - 3s 32ms/step - loss: 0.2949 - accuracy: 0.9204 - val_loss: 0.1102 - val_accuracy: 0.9737\n",
      "Epoch 11/80\n",
      "95/95 [==============================] - 3s 35ms/step - loss: 0.2599 - accuracy: 0.9363 - val_loss: 0.1586 - val_accuracy: 0.9474\n",
      "Epoch 12/80\n",
      "95/95 [==============================] - 3s 31ms/step - loss: 0.1731 - accuracy: 0.9496 - val_loss: 0.1837 - val_accuracy: 0.9474\n",
      "Epoch 13/80\n",
      "95/95 [==============================] - 3s 28ms/step - loss: 0.2521 - accuracy: 0.9231 - val_loss: 0.1294 - val_accuracy: 0.9474\n",
      "Epoch 14/80\n",
      "95/95 [==============================] - 3s 33ms/step - loss: 0.1989 - accuracy: 0.9363 - val_loss: 0.2709 - val_accuracy: 0.9211\n",
      "Epoch 15/80\n",
      "95/95 [==============================] - 3s 27ms/step - loss: 0.1508 - accuracy: 0.9469 - val_loss: 0.1302 - val_accuracy: 0.9474\n",
      "Epoch 16/80\n",
      "95/95 [==============================] - 3s 28ms/step - loss: 0.1120 - accuracy: 0.9708 - val_loss: 0.1063 - val_accuracy: 0.9737\n",
      "Epoch 17/80\n",
      "95/95 [==============================] - 3s 30ms/step - loss: 0.2298 - accuracy: 0.9469 - val_loss: 0.3244 - val_accuracy: 0.9211\n",
      "Epoch 18/80\n",
      "95/95 [==============================] - 3s 28ms/step - loss: 0.1589 - accuracy: 0.9416 - val_loss: 0.2127 - val_accuracy: 0.9474\n",
      "Epoch 19/80\n",
      "95/95 [==============================] - 3s 33ms/step - loss: 0.1379 - accuracy: 0.9602 - val_loss: 0.1979 - val_accuracy: 0.9211\n",
      "Epoch 20/80\n",
      "95/95 [==============================] - 3s 31ms/step - loss: 0.0752 - accuracy: 0.9682 - val_loss: 0.0438 - val_accuracy: 0.9737\n",
      "Epoch 21/80\n",
      "95/95 [==============================] - 3s 31ms/step - loss: 0.1769 - accuracy: 0.9549 - val_loss: 0.0747 - val_accuracy: 0.9737\n",
      "Epoch 22/80\n",
      "95/95 [==============================] - 3s 30ms/step - loss: 0.0837 - accuracy: 0.9735 - val_loss: 0.0754 - val_accuracy: 0.9737\n",
      "Epoch 23/80\n",
      "95/95 [==============================] - 3s 35ms/step - loss: 0.1253 - accuracy: 0.9549 - val_loss: 0.0314 - val_accuracy: 1.0000\n",
      "Epoch 24/80\n",
      "95/95 [==============================] - 3s 29ms/step - loss: 0.1273 - accuracy: 0.9629 - val_loss: 0.0781 - val_accuracy: 0.9474\n",
      "Epoch 25/80\n",
      "95/95 [==============================] - 3s 28ms/step - loss: 0.2112 - accuracy: 0.9390 - val_loss: 0.2212 - val_accuracy: 0.8947\n",
      "Epoch 26/80\n",
      "95/95 [==============================] - 3s 28ms/step - loss: 0.0782 - accuracy: 0.9761 - val_loss: 0.0032 - val_accuracy: 1.0000\n",
      "Epoch 27/80\n",
      "95/95 [==============================] - 3s 29ms/step - loss: 0.0902 - accuracy: 0.9735 - val_loss: 0.0675 - val_accuracy: 0.9737\n",
      "Epoch 28/80\n",
      "95/95 [==============================] - 3s 31ms/step - loss: 0.1207 - accuracy: 0.9682 - val_loss: 0.1927 - val_accuracy: 0.9737\n",
      "Epoch 29/80\n",
      "95/95 [==============================] - 3s 30ms/step - loss: 0.1276 - accuracy: 0.9682 - val_loss: 0.1238 - val_accuracy: 0.9474\n",
      "Epoch 30/80\n",
      "95/95 [==============================] - 3s 34ms/step - loss: 0.0852 - accuracy: 0.9735 - val_loss: 0.2134 - val_accuracy: 0.9474\n",
      "Epoch 31/80\n",
      "95/95 [==============================] - 3s 30ms/step - loss: 0.1089 - accuracy: 0.9682 - val_loss: 0.1341 - val_accuracy: 0.9474\n",
      "Epoch 32/80\n",
      "95/95 [==============================] - 3s 28ms/step - loss: 0.1001 - accuracy: 0.9655 - val_loss: 0.1006 - val_accuracy: 0.9737\n",
      "Epoch 33/80\n",
      "95/95 [==============================] - 3s 29ms/step - loss: 0.0929 - accuracy: 0.9814 - val_loss: 0.1399 - val_accuracy: 0.9737\n",
      "Epoch 34/80\n",
      "95/95 [==============================] - 3s 32ms/step - loss: 0.0933 - accuracy: 0.9788 - val_loss: 0.0951 - val_accuracy: 0.9474\n",
      "Epoch 35/80\n",
      "95/95 [==============================] - 3s 29ms/step - loss: 0.1426 - accuracy: 0.9496 - val_loss: 0.0712 - val_accuracy: 0.9737\n",
      "Epoch 36/80\n",
      "95/95 [==============================] - 3s 33ms/step - loss: 0.0644 - accuracy: 0.9761 - val_loss: 0.0119 - val_accuracy: 1.0000\n",
      "Epoch 37/80\n",
      "95/95 [==============================] - 3s 36ms/step - loss: 0.0681 - accuracy: 0.9894 - val_loss: 0.0445 - val_accuracy: 0.9737\n",
      "Epoch 38/80\n",
      "95/95 [==============================] - 3s 31ms/step - loss: 0.0735 - accuracy: 0.9814 - val_loss: 0.0064 - val_accuracy: 1.0000\n",
      "Epoch 39/80\n",
      "95/95 [==============================] - 3s 30ms/step - loss: 0.0648 - accuracy: 0.9841 - val_loss: 0.0298 - val_accuracy: 1.0000\n",
      "Epoch 40/80\n",
      "95/95 [==============================] - 3s 28ms/step - loss: 0.0900 - accuracy: 0.9682 - val_loss: 0.1461 - val_accuracy: 0.9474\n",
      "Epoch 41/80\n",
      "95/95 [==============================] - 3s 28ms/step - loss: 0.0875 - accuracy: 0.9735 - val_loss: 0.0166 - val_accuracy: 1.0000\n",
      "Epoch 42/80\n",
      "95/95 [==============================] - 3s 28ms/step - loss: 0.1381 - accuracy: 0.9761 - val_loss: 0.0564 - val_accuracy: 0.9737\n",
      "Epoch 43/80\n",
      "95/95 [==============================] - 3s 30ms/step - loss: 0.0661 - accuracy: 0.9841 - val_loss: 0.1080 - val_accuracy: 0.9737\n",
      "Epoch 44/80\n",
      "95/95 [==============================] - 3s 32ms/step - loss: 0.0941 - accuracy: 0.9761 - val_loss: 0.0814 - val_accuracy: 0.9474\n",
      "Epoch 45/80\n",
      "95/95 [==============================] - 4s 38ms/step - loss: 0.0613 - accuracy: 0.9814 - val_loss: 0.0309 - val_accuracy: 0.9737\n",
      "Epoch 46/80\n",
      "95/95 [==============================] - 3s 32ms/step - loss: 0.1414 - accuracy: 0.9629 - val_loss: 0.0082 - val_accuracy: 1.0000\n",
      "Epoch 47/80\n",
      "95/95 [==============================] - 3s 28ms/step - loss: 0.0512 - accuracy: 0.9841 - val_loss: 0.0441 - val_accuracy: 0.9737\n",
      "Epoch 48/80\n",
      "95/95 [==============================] - 3s 28ms/step - loss: 0.1208 - accuracy: 0.9549 - val_loss: 0.0228 - val_accuracy: 1.0000\n",
      "Epoch 49/80\n",
      "95/95 [==============================] - 3s 29ms/step - loss: 0.1277 - accuracy: 0.9629 - val_loss: 0.0834 - val_accuracy: 0.9211\n",
      "Epoch 50/80\n",
      "95/95 [==============================] - 3s 29ms/step - loss: 0.0763 - accuracy: 0.9788 - val_loss: 0.1862 - val_accuracy: 0.9474\n",
      "Epoch 51/80\n",
      "95/95 [==============================] - 3s 29ms/step - loss: 0.0622 - accuracy: 0.9814 - val_loss: 0.0178 - val_accuracy: 1.0000\n",
      "Epoch 52/80\n",
      "95/95 [==============================] - 3s 29ms/step - loss: 0.0548 - accuracy: 0.9761 - val_loss: 0.0308 - val_accuracy: 0.9737\n",
      "Epoch 53/80\n",
      "95/95 [==============================] - 3s 29ms/step - loss: 0.0619 - accuracy: 0.9814 - val_loss: 0.0016 - val_accuracy: 1.0000\n",
      "Epoch 54/80\n",
      "95/95 [==============================] - 3s 28ms/step - loss: 0.0838 - accuracy: 0.9682 - val_loss: 0.0446 - val_accuracy: 0.9737\n",
      "Epoch 55/80\n",
      "95/95 [==============================] - 3s 30ms/step - loss: 0.0753 - accuracy: 0.9814 - val_loss: 0.0185 - val_accuracy: 1.0000\n",
      "Epoch 56/80\n",
      "95/95 [==============================] - 3s 31ms/step - loss: 0.0516 - accuracy: 0.9761 - val_loss: 0.0170 - val_accuracy: 1.0000\n",
      "Epoch 57/80\n",
      "95/95 [==============================] - 3s 30ms/step - loss: 0.0863 - accuracy: 0.9841 - val_loss: 0.0047 - val_accuracy: 1.0000\n",
      "Epoch 58/80\n",
      "95/95 [==============================] - 3s 32ms/step - loss: 0.0438 - accuracy: 0.9867 - val_loss: 0.0011 - val_accuracy: 1.0000\n"
     ]
    },
    {
     "name": "stdout",
     "output_type": "stream",
     "text": [
      "Epoch 59/80\n",
      "95/95 [==============================] - 3s 33ms/step - loss: 0.0820 - accuracy: 0.9867 - val_loss: 0.1929 - val_accuracy: 0.9211\n",
      "Epoch 60/80\n",
      "95/95 [==============================] - 3s 32ms/step - loss: 0.0605 - accuracy: 0.9708 - val_loss: 0.0023 - val_accuracy: 1.0000\n",
      "Epoch 61/80\n",
      "95/95 [==============================] - 3s 34ms/step - loss: 0.0304 - accuracy: 0.9894 - val_loss: 0.0447 - val_accuracy: 0.9737\n",
      "Epoch 62/80\n",
      "95/95 [==============================] - 3s 31ms/step - loss: 0.0946 - accuracy: 0.9708 - val_loss: 0.0759 - val_accuracy: 0.9474\n",
      "Epoch 63/80\n",
      "95/95 [==============================] - 3s 30ms/step - loss: 0.0858 - accuracy: 0.9788 - val_loss: 0.0104 - val_accuracy: 1.0000\n",
      "Epoch 64/80\n",
      "95/95 [==============================] - 3s 31ms/step - loss: 0.0844 - accuracy: 0.9682 - val_loss: 0.0455 - val_accuracy: 0.9737\n",
      "Epoch 65/80\n",
      "95/95 [==============================] - 3s 31ms/step - loss: 0.0234 - accuracy: 0.9920 - val_loss: 0.0050 - val_accuracy: 1.0000\n",
      "Epoch 66/80\n",
      "95/95 [==============================] - 3s 31ms/step - loss: 0.0942 - accuracy: 0.9761 - val_loss: 0.1857 - val_accuracy: 0.9474\n",
      "Epoch 67/80\n",
      "95/95 [==============================] - 3s 33ms/step - loss: 0.0925 - accuracy: 0.9682 - val_loss: 0.0643 - val_accuracy: 0.9737\n",
      "Epoch 68/80\n",
      "95/95 [==============================] - 3s 30ms/step - loss: 0.0550 - accuracy: 0.9894 - val_loss: 0.0014 - val_accuracy: 1.0000\n",
      "Epoch 69/80\n",
      "95/95 [==============================] - 3s 30ms/step - loss: 0.0733 - accuracy: 0.9814 - val_loss: 0.0923 - val_accuracy: 0.9474\n",
      "Epoch 70/80\n",
      "95/95 [==============================] - 3s 31ms/step - loss: 0.0521 - accuracy: 0.9841 - val_loss: 0.0032 - val_accuracy: 1.0000\n",
      "Epoch 71/80\n",
      "95/95 [==============================] - 3s 30ms/step - loss: 0.0233 - accuracy: 0.9947 - val_loss: 0.0018 - val_accuracy: 1.0000\n",
      "Epoch 72/80\n",
      "95/95 [==============================] - 3s 32ms/step - loss: 0.0857 - accuracy: 0.9788 - val_loss: 0.0450 - val_accuracy: 0.9737\n",
      "Epoch 73/80\n",
      "95/95 [==============================] - 3s 30ms/step - loss: 0.0359 - accuracy: 0.9841 - val_loss: 0.0364 - val_accuracy: 0.9737\n",
      "Epoch 74/80\n",
      "95/95 [==============================] - 3s 32ms/step - loss: 0.0239 - accuracy: 0.9920 - val_loss: 0.0348 - val_accuracy: 0.9737\n",
      "Epoch 75/80\n",
      "95/95 [==============================] - 3s 31ms/step - loss: 0.0651 - accuracy: 0.9841 - val_loss: 0.0296 - val_accuracy: 0.9737\n",
      "Epoch 76/80\n",
      "95/95 [==============================] - 3s 36ms/step - loss: 0.0682 - accuracy: 0.9841 - val_loss: 0.1255 - val_accuracy: 0.9737\n",
      "Epoch 77/80\n",
      "95/95 [==============================] - 5s 50ms/step - loss: 0.0631 - accuracy: 0.9735 - val_loss: 0.0016 - val_accuracy: 1.0000\n",
      "Epoch 78/80\n",
      "95/95 [==============================] - 3s 32ms/step - loss: 0.0402 - accuracy: 0.9841 - val_loss: 0.0916 - val_accuracy: 0.9737\n",
      "Epoch 79/80\n",
      "95/95 [==============================] - 3s 31ms/step - loss: 0.0952 - accuracy: 0.9761 - val_loss: 0.0383 - val_accuracy: 0.9737\n",
      "Epoch 80/80\n",
      "95/95 [==============================] - 3s 31ms/step - loss: 0.0511 - accuracy: 0.9814 - val_loss: 0.0424 - val_accuracy: 0.9737\n"
     ]
    }
   ],
   "source": [
    "Batch_Size = 4\n",
    "Epoch_Anz = 80\n",
    "Shift_Range = 1\n",
    "Brightness_Range = 0.3\n",
    "Rotation_Angle = 10\n",
    "ZoomRange = 0.4\n",
    "\n",
    "datagen = ImageDataGenerator(width_shift_range=[-Shift_Range,Shift_Range], \n",
    "                             height_shift_range=[-Shift_Range,Shift_Range],\n",
    "                             brightness_range=[1-Brightness_Range,1+Brightness_Range],\n",
    "                             zoom_range=[1-ZoomRange, 1+ZoomRange],\n",
    "                             rotation_range=Rotation_Angle,\n",
    "                             validation_split=0.2)\n",
    "\n",
    "train_iterator = datagen.flow(x_data, y_data, batch_size=Batch_Size)\n",
    "validation_iterator = datagen.flow(X_test, y_test, batch_size=Batch_Size)\n",
    "\n",
    "history = model.fit_generator(train_iterator, validation_data = validation_iterator, epochs = Epoch_Anz)\n",
    "#history = model.fit_generator(train_iterator, epochs = Epoch_Anz)\n",
    "\n"
   ]
  },
  {
   "cell_type": "markdown",
   "metadata": {},
   "source": [
    "### Learing result\n",
    " \n",
    "* Visualization of the training and validation results"
   ]
  },
  {
   "cell_type": "code",
   "execution_count": 5,
   "metadata": {},
   "outputs": [
    {
     "data": {
      "image/png": "[encoded data removed]",
      "text/plain": [
       "<Figure size 432x288 with 1 Axes>"
      ]
     },
     "metadata": {
      "needs_background": "light"
     },
     "output_type": "display_data"
    }
   ],
   "source": [
    "loss_ges = np.append(loss_ges, history.history['loss'])\n",
    "val_loss_ges = np.append(val_loss_ges, history.history['val_loss'])\n",
    "\n",
    "plt.semilogy(history.history['loss'])\n",
    "plt.semilogy(history.history['val_loss'])\n",
    "plt.title('model loss')\n",
    "plt.ylabel('loss')\n",
    "plt.xlabel('epoch')\n",
    "plt.legend(['train','eval'], loc='upper left')\n",
    "plt.show()"
   ]
  },
  {
   "cell_type": "markdown",
   "metadata": {},
   "source": [
    "### Check the model by hand\n",
    "\n",
    "* The following code uses the trained model to check the deviation for each picture.\n",
    "* x-axis walks through each pixel, y-axis shows the result"
   ]
  },
  {
   "cell_type": "code",
   "execution_count": 6,
   "metadata": {},
   "outputs": [
    {
     "data": {
      "image/png": "[encoded data removed]",
      "text/plain": [
       "<Figure size 432x288 with 1 Axes>"
      ]
     },
     "metadata": {
      "needs_background": "light"
     },
     "output_type": "display_data"
    }
   ],
   "source": [
    "Input_dir='ziffer_sortiert_resize'\n",
    "subdir = [\"NaN\", \"0\", \"1\", \"2\", \"3\", \"4\", \"5\", \"6\", \"7\", \"8\", \"9\"]\n",
    "res = []\n",
    "\n",
    "for aktsubdir in subdir:\n",
    "    files = glob.glob(Input_dir + '/' + aktsubdir + '\\*.jpg')\n",
    "    if aktsubdir == \"NaN\":\n",
    "        zw1 = -1\n",
    "    else:\n",
    "        zw1 = int(aktsubdir)\n",
    "    for aktfile in files:\n",
    "        test_image = Image.open(aktfile)\n",
    "        test_image = np.array(test_image, dtype=\"float32\")\n",
    "        img = np.reshape(test_image,[1,32,20,3])\n",
    "        classes = model.predict_classes(img)\n",
    "        classes = classes[0]\n",
    "        if classes == 10: \n",
    "            classes = -1\n",
    "        zw2 = classes\n",
    "        zw3 = zw2 - zw1\n",
    "        res.append(np.array([zw1, zw2, zw3]))\n",
    "\n",
    "res = np.asarray(res)\n",
    "\n",
    "\n",
    "plt.plot(res[:,0])\n",
    "plt.plot(res[:,1])\n",
    "plt.title('Result')\n",
    "plt.ylabel('Digital Value')\n",
    "plt.xlabel('#Picture')\n",
    "plt.legend(['real','model'], loc='upper left')\n",
    "plt.show()"
   ]
  },
  {
   "cell_type": "markdown",
   "metadata": {},
   "source": [
    "### Save the model\n",
    "\n",
    "* Save the model to the file with the \"h5\" file format"
   ]
  },
  {
   "cell_type": "code",
   "execution_count": 7,
   "metadata": {},
   "outputs": [],
   "source": [
    "model.save(\"Train_CNN_Digital-Readout_Version_5.0.0.h5\")"
   ]
  },
  {
   "cell_type": "markdown",
   "metadata": {},
   "source": [
    "### Check each image for expected and deviation\n",
    "* setting the switch \"only_deviation = true\" will only print the images for which the classification and the CNN-result deviates\n",
    "\n",
    "The output contains the following information:\n",
    "\n",
    "| Filename      | Expected Category           | Predicted Category        |\n",
    "|------------- |:-----------------------------:|--------------|\n",
    "| ziffer_sortiert_resize_NaN/5\\Ziffer_4_0034.jpg | 4  | -1 |\n"
   ]
  },
  {
   "cell_type": "code",
   "execution_count": 8,
   "metadata": {
    "scrolled": true
   },
   "outputs": [],
   "source": [
    "Input_dir='ziffer_sortiert_resize'\n",
    "only_deviation = True\n",
    "\n",
    "subdir = [\"0\", \"1\", \"2\", \"3\", \"4\", \"5\", \"6\", \"7\", \"8\", \"9\", \"NaN\"]\n",
    "\n",
    "for aktsubdir in subdir:\n",
    "    files = glob.glob(Input_dir + '/' + aktsubdir + '\\*.jpg')\n",
    "    expected_class = aktsubdir\n",
    "    for aktfile in files:\n",
    "        test_image = Image.open(aktfile)\n",
    "        test_image = np.array(test_image, dtype=\"float32\")\n",
    "        img = np.reshape(test_image,[1,32,20,3])\n",
    "        classes = model.predict_classes(img)\n",
    "        classes = classes[0]\n",
    "        if classes == 10: \n",
    "            classes = \"NaN\"\n",
    "        if only_deviation == True:\n",
    "            if str(classes) != str(expected_class):\n",
    "                print(aktfile + \" \" + aktsubdir +  \" \" + str(classes))\n",
    "        else:\n",
    "            print(aktfile + \" \" + aktsubdir +  \" \" + str(classes))\n"
   ]
  },
  {
   "cell_type": "markdown",
   "metadata": {},
   "source": [
    "Checking the images shows, that this are border line images, which can be interpreted as a good digit or a faulty one."
   ]
  },
  {
   "cell_type": "code",
   "execution_count": null,
   "metadata": {},
   "outputs": [],
   "source": []
  }
 ],
 "metadata": {
  "kernelspec": {
   "display_name": "Python 3",
   "language": "python",
   "name": "python3"
  },
  "language_info": {
   "codemirror_mode": {
    "name": "ipython",
    "version": 3
   },
   "file_extension": ".py",
   "mimetype": "text/x-python",
   "name": "python",
   "nbconvert_exporter": "python",
   "pygments_lexer": "ipython3",
   "version": "3.7.6"
  }
 },
 "nbformat": 4,
 "nbformat_minor": 2
}
